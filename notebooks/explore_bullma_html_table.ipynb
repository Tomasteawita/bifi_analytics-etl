{
 "cells": [
  {
   "cell_type": "code",
   "execution_count": 1,
   "metadata": {},
   "outputs": [],
   "source": [
    "import pandas as pd"
   ]
  },
  {
   "cell_type": "code",
   "execution_count": 43,
   "metadata": {},
   "outputs": [],
   "source": [
    "# Read the HTML file\n",
    "data = pd.read_html('../data/bullma_portfolio_2024-09-15.html')\n",
    "# Convert the data to a DataFrame\n",
    "df = pd.DataFrame(data[0])\n",
    "\n",
    "# Elimino las columnas 'Unnamed: 0', 'Unnamed: 12', Costo y Total Costo\n",
    "df = df.drop(columns=['Unnamed: 0', 'Unnamed: 12', 'Costo', 'Total Costo','Gan-Per %', 'Gan.-Per $','Var % Diaria','Var $ Diaria'])\n",
    "\n",
    "# corrijo la cantidad\n",
    "df['Cantidad'] = df['Cantidad'].str.replace(',', '')\n",
    "df = df.loc[df['Cantidad'].str.isnumeric()]\n",
    "df['Cantidad'] = df['Cantidad'].astype(int)\n",
    "df['Cantidad'] = df['Cantidad'] / 100\n",
    "\n",
    "# convierto el ultimo precio en float\n",
    "columns_ars = ['Ultimo Precio', 'PPC', 'Total']\n",
    "\n",
    "for column in columns_ars:\n",
    "    df[column] = df[column].str.replace('ARS', '').str.replace('.', '').str.replace('.', '').str.replace(',', '.').astype(float)\n",
    "\n",
    "# Convierto la columna \"Producto\" en una lista separada por *\n",
    "df['Producto'] = df['Producto'].str.split('*')\n",
    "df['Ticket'] = df['Producto'].apply(lambda x: x[0]).str.strip()\n",
    "df['Nombre'] = df['Producto'].apply(lambda x: x[1]).str.strip()\n",
    "\n",
    "df = df.drop(columns=['Producto'])\n",
    "\n",
    "# Reordeno el orden de las columnas: Ticket, Nombre, Cantidad, Ultimo Precio, PPC, Total\n",
    "df = df[['Ticket', 'Nombre', 'Cantidad', 'Ultimo Precio', 'PPC', 'Total']]\n",
    "\n",
    "\n",
    "\n",
    "df.to_csv('../data/bullma_portfolio_2024-09-15.csv', index=False)"
   ]
  }
 ],
 "metadata": {
  "kernelspec": {
   "display_name": "venv",
   "language": "python",
   "name": "python3"
  },
  "language_info": {
   "codemirror_mode": {
    "name": "ipython",
    "version": 3
   },
   "file_extension": ".py",
   "mimetype": "text/x-python",
   "name": "python",
   "nbconvert_exporter": "python",
   "pygments_lexer": "ipython3",
   "version": "3.12.6"
  }
 },
 "nbformat": 4,
 "nbformat_minor": 2
}
