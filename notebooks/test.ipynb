{
 "cells": [
  {
   "cell_type": "code",
   "execution_count": 1,
   "metadata": {},
   "outputs": [
    {
     "name": "stdout",
     "output_type": "stream",
     "text": [
      "shape: (5, 3)\n",
      "┌─────┬─────┬─────┐\n",
      "│ A   ┆ B   ┆ C   │\n",
      "│ --- ┆ --- ┆ --- │\n",
      "│ i64 ┆ i64 ┆ i64 │\n",
      "╞═════╪═════╪═════╡\n",
      "│ 1   ┆ 5   ┆ 1   │\n",
      "│ 2   ┆ 4   ┆ 1   │\n",
      "│ 3   ┆ 3   ┆ 2   │\n",
      "│ 4   ┆ 2   ┆ 2   │\n",
      "│ 5   ┆ 1   ┆ 1   │\n",
      "└─────┴─────┴─────┘\n"
     ]
    }
   ],
   "source": [
    "import polars as pl\n",
    "\n",
    "df = pl.DataFrame(\n",
    "        {\n",
    "            \"A\": [1, 2, 3, 4, 5],\n",
    "            \"B\": [5, 4, 3, 2, 1],\n",
    "            \"C\": [1, 1, 2, 2, 1],\n",
    "        }\n",
    "    )\n",
    "print(df)"
   ]
  },
  {
   "cell_type": "code",
   "execution_count": 1,
   "metadata": {},
   "outputs": [],
   "source": [
    "import io"
   ]
  }
 ],
 "metadata": {
  "kernelspec": {
   "display_name": "venv",
   "language": "python",
   "name": "python3"
  },
  "language_info": {
   "codemirror_mode": {
    "name": "ipython",
    "version": 3
   },
   "file_extension": ".py",
   "mimetype": "text/x-python",
   "name": "python",
   "nbconvert_exporter": "python",
   "pygments_lexer": "ipython3",
   "version": "3.12.7"
  }
 },
 "nbformat": 4,
 "nbformat_minor": 2
}
