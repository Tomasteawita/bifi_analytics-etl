{
 "cells": [
  {
   "cell_type": "code",
   "execution_count": 2,
   "metadata": {},
   "outputs": [],
   "source": [
    "import pandas as pd"
   ]
  },
  {
   "cell_type": "code",
   "execution_count": 15,
   "metadata": {},
   "outputs": [
    {
     "data": {
      "text/html": [
       "<div>\n",
       "<style scoped>\n",
       "    .dataframe tbody tr th:only-of-type {\n",
       "        vertical-align: middle;\n",
       "    }\n",
       "\n",
       "    .dataframe tbody tr th {\n",
       "        vertical-align: top;\n",
       "    }\n",
       "\n",
       "    .dataframe thead th {\n",
       "        text-align: right;\n",
       "    }\n",
       "</style>\n",
       "<table border=\"1\" class=\"dataframe\">\n",
       "  <thead>\n",
       "    <tr style=\"text-align: right;\">\n",
       "      <th></th>\n",
       "      <th>Activo</th>\n",
       "      <th>Cantidad</th>\n",
       "      <th>Último precio</th>\n",
       "      <th>Precio promedio  de compra</th>\n",
       "    </tr>\n",
       "  </thead>\n",
       "  <tbody>\n",
       "    <tr>\n",
       "      <th>0</th>\n",
       "      <td>BPY26  Bopreal Serie 3 Vto 31/05...</td>\n",
       "      <td>100</td>\n",
       "      <td>$  106.200,000</td>\n",
       "      <td>$105.710,00</td>\n",
       "    </tr>\n",
       "    <tr>\n",
       "      <th>1</th>\n",
       "      <td>GD35  Bonos Rep. Arg. U$S Step ...</td>\n",
       "      <td>98</td>\n",
       "      <td>$  58.300,000</td>\n",
       "      <td>$53.771,84</td>\n",
       "    </tr>\n",
       "    <tr>\n",
       "      <th>2</th>\n",
       "      <td>IRCFO  On Irsa Clase Xiv 8,75% V...</td>\n",
       "      <td>76</td>\n",
       "      <td>$  110.900,000</td>\n",
       "      <td>$115.728,82</td>\n",
       "    </tr>\n",
       "    <tr>\n",
       "      <th>3</th>\n",
       "      <td>IRCGO  On Irsa Usd Cl.Xv V.25/03...</td>\n",
       "      <td>66</td>\n",
       "      <td>$  126.350,000</td>\n",
       "      <td>$131.912,42</td>\n",
       "    </tr>\n",
       "    <tr>\n",
       "      <th>4</th>\n",
       "      <td>MRCAO  On Generación Mediterráne...</td>\n",
       "      <td>114</td>\n",
       "      <td>$  83.800,000</td>\n",
       "      <td>$86.220,00</td>\n",
       "    </tr>\n",
       "    <tr>\n",
       "      <th>5</th>\n",
       "      <td>T2X5  Bono Tesoro $ Aj. Cer 4.2...</td>\n",
       "      <td>9409</td>\n",
       "      <td>$  563,600</td>\n",
       "      <td>$523,38</td>\n",
       "    </tr>\n",
       "  </tbody>\n",
       "</table>\n",
       "</div>"
      ],
      "text/plain": [
       "                                Activo  Cantidad   Último precio  \\\n",
       "0  BPY26  Bopreal Serie 3 Vto 31/05...       100  $  106.200,000   \n",
       "1   GD35  Bonos Rep. Arg. U$S Step ...        98   $  58.300,000   \n",
       "2  IRCFO  On Irsa Clase Xiv 8,75% V...        76  $  110.900,000   \n",
       "3  IRCGO  On Irsa Usd Cl.Xv V.25/03...        66  $  126.350,000   \n",
       "4  MRCAO  On Generación Mediterráne...       114   $  83.800,000   \n",
       "5   T2X5  Bono Tesoro $ Aj. Cer 4.2...      9409      $  563,600   \n",
       "\n",
       "  Precio promedio  de compra  \n",
       "0                $105.710,00  \n",
       "1                 $53.771,84  \n",
       "2                $115.728,82  \n",
       "3                $131.912,42  \n",
       "4                 $86.220,00  \n",
       "5                    $523,38  "
      ]
     },
     "execution_count": 15,
     "metadata": {},
     "output_type": "execute_result"
    }
   ],
   "source": [
    "# Read the HTML file\n",
    "data = pd.read_html('../data/iol_portfolio_2024-09-15.html')\n",
    "# Convert the data to a DataFrame\n",
    "df = pd.DataFrame(data[0])\n",
    "\n",
    "df = df[[\"Activo\", \"Cantidad\", \"Último precio\", \"Precio promedio  de compra\"]]\n",
    "\n",
    "# Elimino uno de los indices\n",
    "df.columns = df.columns.droplevel(0)\n",
    "\n",
    "\n",
    "df"
   ]
  }
 ],
 "metadata": {
  "kernelspec": {
   "display_name": "venv",
   "language": "python",
   "name": "python3"
  },
  "language_info": {
   "codemirror_mode": {
    "name": "ipython",
    "version": 3
   },
   "file_extension": ".py",
   "mimetype": "text/x-python",
   "name": "python",
   "nbconvert_exporter": "python",
   "pygments_lexer": "ipython3",
   "version": "3.12.6"
  }
 },
 "nbformat": 4,
 "nbformat_minor": 2
}
