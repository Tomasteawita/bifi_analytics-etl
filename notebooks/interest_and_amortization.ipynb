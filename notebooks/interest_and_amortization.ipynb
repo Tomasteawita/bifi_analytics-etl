{
 "cells": [
  {
   "cell_type": "code",
   "execution_count": 1,
   "metadata": {},
   "outputs": [],
   "source": [
    "import polars as pl"
   ]
  },
  {
   "cell_type": "code",
   "execution_count": 21,
   "metadata": {},
   "outputs": [
    {
     "name": "stdout",
     "output_type": "stream",
     "text": [
      "Guardado T2X5.csv\n",
      "Guardado T2X5.json\n",
      "Guardado MRCAO.csv\n",
      "Guardado MRCAO.json\n",
      "Guardado IRCGO.csv\n",
      "Guardado IRCGO.json\n",
      "Guardado IRCFO.csv\n",
      "Guardado IRCFO.json\n",
      "Guardado BPY26.csv\n",
      "Guardado BPY26.json\n"
     ]
    }
   ],
   "source": [
    "securities = ('T2X5', 'MRCAO', 'IRCGO', 'IRCFO', 'BPY26')\n",
    "\n",
    "# creo un dataframe vacio con las columnas Fecha Cupon, Amort, Cupon, Valor Par\n",
    "for securitie in securities:\n",
    "    df_securitie = pl.read_excel(\n",
    "                        '../data/bronze/intereses y amortizaciones.xlsx',\n",
    "                        engine=\"calamine\",\n",
    "                        sheet_name=securitie,\n",
    "                    )\n",
    "    par_value = df_securitie.filter(\n",
    "            pl.col('Valor Par').is_not_null()\n",
    "        ).select('Valor Par').head(1).get_column('Valor Par')[0]\n",
    "\n",
    "    dict_securitie = {'par_value' : par_value}\n",
    "    \n",
    "\n",
    "    # guardo en un csv la informacion\n",
    "    df_securitie.write_csv(f'../data/silver/{securitie}.csv')\n",
    "    print(f'Guardado {securitie}.csv')\n",
    "    # guardo el diccionario en un json\n",
    "    with open(f'../data/silver/{securitie}.json', 'w') as f:\n",
    "        f.write(str(dict_securitie))\n",
    "    print(f'Guardado {securitie}.json')\n",
    "\n"
   ]
  }
 ],
 "metadata": {
  "kernelspec": {
   "display_name": "venv",
   "language": "python",
   "name": "python3"
  },
  "language_info": {
   "codemirror_mode": {
    "name": "ipython",
    "version": 3
   },
   "file_extension": ".py",
   "mimetype": "text/x-python",
   "name": "python",
   "nbconvert_exporter": "python",
   "pygments_lexer": "ipython3",
   "version": "3.12.7"
  }
 },
 "nbformat": 4,
 "nbformat_minor": 2
}
