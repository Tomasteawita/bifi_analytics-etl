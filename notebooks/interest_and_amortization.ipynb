{
 "cells": [
  {
   "cell_type": "code",
   "execution_count": 2,
   "metadata": {},
   "outputs": [],
   "source": [
    "import polars as pl"
   ]
  },
  {
   "cell_type": "code",
   "execution_count": 57,
   "metadata": {},
   "outputs": [
    {
     "name": "stdout",
     "output_type": "stream",
     "text": [
      "shape: (7, 4)\n",
      "┌─────────────┬───────┬───────┬─────────────┐\n",
      "│ Fecha Cupón ┆ Amort ┆ Cupón ┆ Valor par   │\n",
      "│ ---         ┆ ---   ┆ ---   ┆ ---         │\n",
      "│ date        ┆ i64   ┆ i64   ┆ f64         │\n",
      "╞═════════════╪═══════╪═══════╪═════════════╡\n",
      "│ 2024-11-30  ┆ 0     ┆ 3     ┆ 1190.984627 │\n",
      "│ 2025-02-28  ┆ 0     ┆ 3     ┆ null        │\n",
      "│ 2025-05-31  ┆ 0     ┆ 3     ┆ null        │\n",
      "│ 2025-08-31  ┆ 0     ┆ 3     ┆ null        │\n",
      "│ 2025-11-30  ┆ 33    ┆ 3     ┆ null        │\n",
      "│ 2026-02-28  ┆ 33    ┆ 3     ┆ null        │\n",
      "│ 2026-05-31  ┆ 34    ┆ 3     ┆ null        │\n",
      "└─────────────┴───────┴───────┴─────────────┘\n"
     ]
    }
   ],
   "source": [
    "df_mrcao = pl.read_excel(\n",
    "                    '../data/bronze/intereses y amortizaciones.xlsx',\n",
    "                    engine=\"calamine\",\n",
    "                    sheet_name='BPY26',\n",
    "                    # read_options={\n",
    "                    #     \"skip_rows\": 5,  # Omitir las primeras 3 filas para empezar desde la fila 4\n",
    "                    #     \"n_rows\": 10,  # Leer solo las primeras 10 filas\n",
    "                    # }\n",
    "                )\n",
    "\n",
    "print(df_mrcao)"
   ]
  },
  {
   "cell_type": "code",
   "execution_count": 55,
   "metadata": {},
   "outputs": [
    {
     "data": {
      "text/html": [
       "<div><style>\n",
       ".dataframe > thead > tr,\n",
       ".dataframe > tbody > tr {\n",
       "  text-align: right;\n",
       "  white-space: pre-wrap;\n",
       "}\n",
       "</style>\n",
       "<small>shape: (2, 4)</small><table border=\"1\" class=\"dataframe\"><thead><tr><th>Fecha Cupón</th><th>Amort</th><th>Cupón</th><th>Valor par</th></tr><tr><td>date</td><td>i64</td><td>f64</td><td>f64</td></tr></thead><tbody><tr><td>2027-06-01</td><td>10</td><td>9.875</td><td>908.655796</td></tr><tr><td>2027-12-01</td><td>14</td><td>9.875</td><td>908.655796</td></tr></tbody></table></div>"
      ],
      "text/plain": [
       "shape: (2, 4)\n",
       "┌─────────────┬───────┬───────┬────────────┐\n",
       "│ Fecha Cupón ┆ Amort ┆ Cupón ┆ Valor par  │\n",
       "│ ---         ┆ ---   ┆ ---   ┆ ---        │\n",
       "│ date        ┆ i64   ┆ f64   ┆ f64        │\n",
       "╞═════════════╪═══════╪═══════╪════════════╡\n",
       "│ 2027-06-01  ┆ 10    ┆ 9.875 ┆ 908.655796 │\n",
       "│ 2027-12-01  ┆ 14    ┆ 9.875 ┆ 908.655796 │\n",
       "└─────────────┴───────┴───────┴────────────┘"
      ]
     },
     "execution_count": 55,
     "metadata": {},
     "output_type": "execute_result"
    }
   ],
   "source": [
    "df_mrcao"
   ]
  }
 ],
 "metadata": {
  "kernelspec": {
   "display_name": "venv",
   "language": "python",
   "name": "python3"
  },
  "language_info": {
   "codemirror_mode": {
    "name": "ipython",
    "version": 3
   },
   "file_extension": ".py",
   "mimetype": "text/x-python",
   "name": "python",
   "nbconvert_exporter": "python",
   "pygments_lexer": "ipython3",
   "version": "3.12.7"
  }
 },
 "nbformat": 4,
 "nbformat_minor": 2
}
